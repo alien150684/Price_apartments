{
  "cells": [
    {
      "cell_type": "markdown",
      "source": [
        "# Import"
      ],
      "metadata": {
        "id": "NvJTNIRHacdQ"
      },
      "id": "NvJTNIRHacdQ"
    },
    {
      "cell_type": "code",
      "source": [
        "%pip install -q catboost"
      ],
      "metadata": {
        "colab": {
          "base_uri": "https://localhost:8080/"
        },
        "id": "lD66l2dH5E9h",
        "outputId": "d24b488a-1e79-4765-ddb3-c5bccd157b28"
      },
      "id": "lD66l2dH5E9h",
      "execution_count": 1,
      "outputs": [
        {
          "output_type": "stream",
          "name": "stdout",
          "text": [
            "\u001b[2K     \u001b[90m━━━━━━━━━━━━━━━━━━━━━━━━━━━━━━━━━━━━━━━━\u001b[0m \u001b[32m98.7/98.7 MB\u001b[0m \u001b[31m8.8 MB/s\u001b[0m eta \u001b[36m0:00:00\u001b[0m\n",
            "\u001b[?25h"
          ]
        }
      ]
    },
    {
      "cell_type": "code",
      "execution_count": 3,
      "id": "82041745-88fe-4d33-ab74-7b1159e673e7",
      "metadata": {
        "id": "82041745-88fe-4d33-ab74-7b1159e673e7",
        "colab": {
          "base_uri": "https://localhost:8080/"
        },
        "outputId": "860fba99-e3e5-4684-e7ae-bf2cd238c0de"
      },
      "outputs": [
        {
          "output_type": "stream",
          "name": "stdout",
          "text": [
            "Mounted at /drive\n"
          ]
        }
      ],
      "source": [
        "# Standard Libraries\n",
        "import numpy as np\n",
        "import pandas as pd\n",
        "import requests\n",
        "import warnings\n",
        "from tqdm import tqdm\n",
        "\n",
        "# Visualization\n",
        "import matplotlib.pyplot as plt\n",
        "\n",
        "# Web Scraping\n",
        "from bs4 import BeautifulSoup\n",
        "\n",
        "# Scikit-learn\n",
        "from sklearn.compose import ColumnTransformer\n",
        "from sklearn.dummy import DummyRegressor\n",
        "from sklearn.impute import SimpleImputer\n",
        "from sklearn.linear_model import LinearRegression\n",
        "from sklearn.metrics import mean_squared_error as mse, r2_score\n",
        "from sklearn.model_selection import train_test_split, cross_val_score, GridSearchCV\n",
        "from sklearn.pipeline import Pipeline\n",
        "from sklearn.preprocessing import OneHotEncoder, StandardScaler\n",
        "\n",
        "# Boosting Algorithms\n",
        "from lightgbm import LGBMRegressor\n",
        "from catboost import CatBoostRegressor\n",
        "\n",
        "from data_processing import *\n",
        "\n",
        "# Suppress warnings\n",
        "warnings.filterwarnings('ignore')\n",
        "\n",
        "# GoogleDrive\n",
        "from google.colab import drive\n",
        "drive.mount('/drive')"
      ]
    },
    {
      "cell_type": "markdown",
      "id": "4c691b23-b27a-4002-8733-57fa28e5efba",
      "metadata": {
        "id": "4c691b23-b27a-4002-8733-57fa28e5efba"
      },
      "source": [
        "# Parsing Data"
      ]
    },
    {
      "cell_type": "markdown",
      "id": "257c5817-38aa-495a-b24c-4c551d2a55ac",
      "metadata": {
        "id": "257c5817-38aa-495a-b24c-4c551d2a55ac"
      },
      "source": [
        "http://magnitogorsk-citystar.ru/realty/prodazha-kvartir"
      ]
    },
    {
      "cell_type": "code",
      "execution_count": 4,
      "id": "bee33b4d-d737-4656-b17f-1a88fb4eb827",
      "metadata": {
        "id": "bee33b4d-d737-4656-b17f-1a88fb4eb827"
      },
      "outputs": [],
      "source": [
        "# Функция для получения содержимого веб-страницы\n",
        "def get_page_soup(url: str) -> BeautifulSoup:\n",
        "    r = requests.get(url)\n",
        "    if not r.ok:\n",
        "        return None\n",
        "    return BeautifulSoup(r.text, \"html.parser\")"
      ]
    },
    {
      "cell_type": "code",
      "execution_count": 5,
      "id": "f8ae7e4d-3f22-4949-94eb-defe352bd2a9",
      "metadata": {
        "id": "f8ae7e4d-3f22-4949-94eb-defe352bd2a9"
      },
      "outputs": [],
      "source": [
        "%%script false --no-raise-error\n",
        "\n",
        "# Функция для извлечения данных из страницы с объявлениями\n",
        "def extract_ad(soup: BeautifulSoup) -> pd.DataFrame:\n",
        "    # Извлечение ID объявлений\n",
        "    all_id = soup.findAll('span', class_='ibf')\n",
        "\n",
        "    # Извлечение информации о количестве комнат и типе планировки\n",
        "    all_flat_type = soup.findAll('td', class_='flat-type')\n",
        "\n",
        "    # Извлечение адреса\n",
        "    address = [x.get_text(separator=\",\").split(',') for x in soup.findAll('td', class_='address')]\n",
        "\n",
        "    # Извлечение информации о этаже\n",
        "    floor = soup.findAll('td', class_='floor')\n",
        "\n",
        "    # Извлечение площади квартиры\n",
        "    square = [x.text[:-3].split('/') for x in soup.findAll('td', class_='square')]\n",
        "\n",
        "    # Извлечение цены квартиры\n",
        "    price = soup.findAll('td', class_='price')\n",
        "\n",
        "    # Формирование итогового датафрейма\n",
        "    data = {\n",
        "        'id': [int(x['id'][7:]) for x in all_id],\n",
        "        'num_rooms': [int(x.text[0]) if x.text and x.text[0].isnumeric() else -1 for x in all_flat_type],\n",
        "        'flat': [x.text[2:] if len(x.text) > 2 else None for x in all_flat_type],\n",
        "        'district': [x[0].lower() if any(district in x[0].lower() for district in ['орджоникидзевский', 'ленинский', 'правобережный']) else None for x in address],\n",
        "        'house': [','.join(x[1:]).strip() if any(district in x[0].lower() for district in ['орджоникидзевский', 'ленинский', 'правобережный']) else ','.join(x).strip() for x in address],\n",
        "        'floor_num': [int(x.text.split('/')[0]) for x in floor],\n",
        "        'floors_num': [int(x.text.split('/')[1]) for x in floor],\n",
        "        'square_total': [float(x[0].replace(',', '.')) for x in square],\n",
        "        'square_living': [float(x[1].replace(',', '.')) for x in square],\n",
        "        'square_kitchen': [float(x[2].replace(',', '.')) for x in square],\n",
        "        'price': [int(x.text.replace('\\xa0', '')[:-2]) if x.text else 0 for x in price]\n",
        "    }\n",
        "\n",
        "    return pd.DataFrame(data)\n",
        "\n",
        "# Сбор данных с нескольких страниц\n",
        "dfs = []\n",
        "for _ in tqdm(range(20)):\n",
        "    soup = get_page_soup(f\"http://magnitogorsk-citystar.ru/realty/prodazha-kvartir/?p={_ + 1}\")\n",
        "    if not soup:\n",
        "        break\n",
        "    df = extract_ad(soup)\n",
        "    if df is None:\n",
        "        break\n",
        "    dfs.append(df)\n",
        "\n",
        "# Объединение данных из разных страниц в один датафрейм\n",
        "df = pd.concat(dfs).reset_index(drop=True)\n",
        "\n",
        "# Преобразование типов данных для определенных столбцов\n",
        "for col_name in ('id', 'num_rooms', 'floors_num', 'floor_num', 'price'):\n",
        "    df[col_name] = df[col_name].astype('int')"
      ]
    },
    {
      "cell_type": "code",
      "source": [
        "# df.to_csv('/drive/My Drive/datasets/CityStarExport-04.10.2023.csv', index=False)"
      ],
      "metadata": {
        "id": "C4NH7e56_2UB"
      },
      "id": "C4NH7e56_2UB",
      "execution_count": 6,
      "outputs": []
    },
    {
      "cell_type": "markdown",
      "source": [
        "# Process Data"
      ],
      "metadata": {
        "id": "4_o9iep5MBmh"
      },
      "id": "4_o9iep5MBmh"
    },
    {
      "cell_type": "code",
      "source": [
        "df = pd.read_csv('/drive/My Drive/datasets/CityStarExport-04.10.2023.csv')"
      ],
      "metadata": {
        "id": "CByvrbrC7_01"
      },
      "id": "CByvrbrC7_01",
      "execution_count": 7,
      "outputs": []
    },
    {
      "cell_type": "code",
      "source": [
        "process_data(df, visualize=False)"
      ],
      "metadata": {
        "colab": {
          "base_uri": "https://localhost:8080/"
        },
        "id": "SpWvywgp-vSt",
        "outputId": "e89897f6-6eb9-4bf1-de34-7b84d75f0c9b"
      },
      "id": "SpWvywgp-vSt",
      "execution_count": 8,
      "outputs": [
        {
          "output_type": "stream",
          "name": "stdout",
          "text": [
            "Missing values percentage:\n",
            "\n",
            "id                 0.000000\n",
            "num_rooms          0.000000\n",
            "flat              74.215247\n",
            "district          42.600897\n",
            "house              1.121076\n",
            "floor_num          0.000000\n",
            "floors_num         0.000000\n",
            "square_total       0.000000\n",
            "square_living      0.000000\n",
            "square_kitchen     0.000000\n",
            "price              0.000000\n",
            "dtype: float64\n",
            "\n"
          ]
        }
      ]
    },
    {
      "cell_type": "code",
      "source": [
        "# Функция для определения категории этажа на основе признаков 'floor_num' и 'floors_num'\n",
        "def floor_cat(row):\n",
        "    if row['floor_num'] == row['floors_num']:\n",
        "        return 'верхний'\n",
        "    elif row['floor_num'] == 1:\n",
        "        return 'нижний'\n",
        "    else:\n",
        "        return 'промежуточный'"
      ],
      "metadata": {
        "id": "Fvh_59VD9ha4"
      },
      "id": "Fvh_59VD9ha4",
      "execution_count": 9,
      "outputs": []
    },
    {
      "cell_type": "code",
      "source": [
        "# Применяем функцию к датафрейму\n",
        "df['floor_cat'] = df.apply(floor_cat, axis=1)"
      ],
      "metadata": {
        "id": "NuyXL-rILunY"
      },
      "id": "NuyXL-rILunY",
      "execution_count": 10,
      "outputs": []
    },
    {
      "cell_type": "code",
      "source": [
        "# Унифицируем значения в столбце 'district'\n",
        "df['district'] = df['district'].replace({\n",
        "    'орджоникидзевский (левый берег)': 'орджоникидзевский',\n",
        "    'орджоникидзевский (правый берег)': 'орджоникидзевский',\n",
        "    'ленинский (левый берег)': 'ленинский'\n",
        "})"
      ],
      "metadata": {
        "id": "qTg7-DLpDymE"
      },
      "id": "qTg7-DLpDymE",
      "execution_count": 11,
      "outputs": []
    },
    {
      "cell_type": "code",
      "source": [
        "# Удаляем ненужные столбцы\n",
        "df.drop(['id', 'flat', 'house', 'floor_num'], axis=1, inplace=True)"
      ],
      "metadata": {
        "id": "OgMgvgrplwVj"
      },
      "id": "OgMgvgrplwVj",
      "execution_count": 12,
      "outputs": []
    },
    {
      "cell_type": "code",
      "source": [
        "\n",
        "# Создаем списки категориальных и числовых признаков\n",
        "cat_features = df.select_dtypes(include='object').columns\n",
        "num_features = df.select_dtypes(exclude='object').columns"
      ],
      "metadata": {
        "id": "ahAG6YJPSLJV"
      },
      "id": "ahAG6YJPSLJV",
      "execution_count": 13,
      "outputs": []
    },
    {
      "cell_type": "code",
      "source": [
        "\n",
        "# Проверяем количество пропущенных значений в столбце 'num_rooms'\n",
        "missing_num_rooms = df[df['num_rooms'] == -1]['num_rooms'].count()\n",
        "print(f\"Missing 'num_rooms' values: {missing_num_rooms}\")"
      ],
      "metadata": {
        "colab": {
          "base_uri": "https://localhost:8080/"
        },
        "id": "n5xZ5P8kSgA8",
        "outputId": "bb8f5749-2879-4ae8-f4a1-75b0482a3875"
      },
      "id": "n5xZ5P8kSgA8",
      "execution_count": 14,
      "outputs": [
        {
          "output_type": "stream",
          "name": "stdout",
          "text": [
            "Missing 'num_rooms' values: 14\n"
          ]
        }
      ]
    },
    {
      "cell_type": "code",
      "source": [
        "# Удаляем строки с пропущенными значениями\n",
        "df = df[df['num_rooms'] >= 1].dropna(subset=['district'])\n",
        "\n",
        "# Выводим информацию о датафрейме\n",
        "df.info()"
      ],
      "metadata": {
        "colab": {
          "base_uri": "https://localhost:8080/"
        },
        "id": "vnLNLohfYVJx",
        "outputId": "f183898c-925c-44b1-ae73-42686a2de517"
      },
      "id": "vnLNLohfYVJx",
      "execution_count": 15,
      "outputs": [
        {
          "output_type": "stream",
          "name": "stdout",
          "text": [
            "<class 'pandas.core.frame.DataFrame'>\n",
            "Int64Index: 255 entries, 0 to 445\n",
            "Data columns (total 8 columns):\n",
            " #   Column          Non-Null Count  Dtype  \n",
            "---  ------          --------------  -----  \n",
            " 0   num_rooms       255 non-null    int64  \n",
            " 1   district        255 non-null    object \n",
            " 2   floors_num      255 non-null    int64  \n",
            " 3   square_total    255 non-null    float64\n",
            " 4   square_living   255 non-null    float64\n",
            " 5   square_kitchen  255 non-null    float64\n",
            " 6   price           255 non-null    int64  \n",
            " 7   floor_cat       255 non-null    object \n",
            "dtypes: float64(3), int64(3), object(2)\n",
            "memory usage: 17.9+ KB\n"
          ]
        }
      ]
    },
    {
      "cell_type": "code",
      "source": [
        "process_data(df, visualize=False)"
      ],
      "metadata": {
        "colab": {
          "base_uri": "https://localhost:8080/"
        },
        "id": "88UZRB4WbWZo",
        "outputId": "a52ad153-3af2-4e62-ee6d-34c6655e06bf"
      },
      "id": "88UZRB4WbWZo",
      "execution_count": 16,
      "outputs": [
        {
          "output_type": "stream",
          "name": "stdout",
          "text": [
            "Missing values percentage:\n",
            "\n",
            "num_rooms         0.0\n",
            "district          0.0\n",
            "floors_num        0.0\n",
            "square_total      0.0\n",
            "square_living     0.0\n",
            "square_kitchen    0.0\n",
            "price             0.0\n",
            "floor_cat         0.0\n",
            "dtype: float64\n",
            "\n"
          ]
        }
      ]
    },
    {
      "cell_type": "code",
      "source": [
        "plot_outliers(df[['price']])"
      ],
      "metadata": {
        "colab": {
          "base_uri": "https://localhost:8080/",
          "height": 772
        },
        "id": "hQcSuZLv01cY",
        "outputId": "08bcfe37-a85a-4108-d413-9eac124f0325"
      },
      "id": "hQcSuZLv01cY",
      "execution_count": 17,
      "outputs": [
        {
          "output_type": "display_data",
          "data": {
            "text/plain": [
              "<Figure size 1200x800 with 1 Axes>"
            ],
            "image/png": "[encoded data removed]"
          },
          "metadata": {}
        },
        {
          "output_type": "stream",
          "name": "stdout",
          "text": [
            "price - Outliers: 0.39%\n"
          ]
        }
      ]
    },
    {
      "cell_type": "code",
      "source": [
        "plot_outliers(df, handle_outliers=\"replace\");"
      ],
      "metadata": {
        "colab": {
          "base_uri": "https://localhost:8080/"
        },
        "id": "SphHYxyfbce5",
        "outputId": "3f58c6b7-8662-4e04-930c-4a5eba927113"
      },
      "id": "SphHYxyfbce5",
      "execution_count": 18,
      "outputs": [
        {
          "output_type": "stream",
          "name": "stdout",
          "text": [
            "No columns with outliers to visualize.\n"
          ]
        }
      ]
    },
    {
      "cell_type": "markdown",
      "source": [
        "Вывод. Среди значений числовых признаков явных аномалий нет."
      ],
      "metadata": {
        "id": "VKuxnpTg-cVd"
      },
      "id": "VKuxnpTg-cVd"
    },
    {
      "cell_type": "markdown",
      "source": [
        "# Transfrom Data"
      ],
      "metadata": {
        "id": "ty40HhesbqbN"
      },
      "id": "ty40HhesbqbN"
    },
    {
      "cell_type": "code",
      "source": [
        "# Отделим целевой признак от остальных.\n",
        "X = df.drop(['price'], axis=1)\n",
        "y = df['price']\n",
        "\n",
        "# Отделим 20% данных для тестовой выборки.\n",
        "X_train, X_test, y_train, y_test = train_test_split(\n",
        "    X, y, test_size=0.20, random_state=12345)\n",
        "\n",
        "display(X_train.shape, X_test.shape)"
      ],
      "metadata": {
        "colab": {
          "base_uri": "https://localhost:8080/",
          "height": 52
        },
        "id": "oabq-FZIys_p",
        "outputId": "3c479d91-6e2a-4e2c-c2a9-1781116ca6e4"
      },
      "id": "oabq-FZIys_p",
      "execution_count": 19,
      "outputs": [
        {
          "output_type": "display_data",
          "data": {
            "text/plain": [
              "(204, 7)"
            ]
          },
          "metadata": {}
        },
        {
          "output_type": "display_data",
          "data": {
            "text/plain": [
              "(51, 7)"
            ]
          },
          "metadata": {}
        }
      ]
    },
    {
      "cell_type": "code",
      "source": [
        "# Исключим из списка числовых обучающих признаков целевой\n",
        "num_features = num_features[:-1]\n",
        "\n",
        "# Создаем экземпляр класса DataPreprocessor\n",
        "data_preprocessor = DataPreprocessor()\n",
        "\n",
        "# Применяем метод fit_transform к обучающим данным и метод transform к тестовым данным\n",
        "X_train_transform = data_preprocessor.fit_transform(X_train)\n",
        "X_test_transform = data_preprocessor.transform(X_test)"
      ],
      "metadata": {
        "id": "EKXSLILmv0O0"
      },
      "id": "EKXSLILmv0O0",
      "execution_count": 20,
      "outputs": []
    },
    {
      "cell_type": "code",
      "source": [
        "# Сохраняем трансформер в файл\n",
        "# joblib.dump(data_preprocessor.preprocessor, '/drive/My Drive/preprocessor.pkl')"
      ],
      "metadata": {
        "id": "rTJi7YhobyC-"
      },
      "id": "rTJi7YhobyC-",
      "execution_count": 21,
      "outputs": []
    },
    {
      "cell_type": "markdown",
      "source": [
        "# Modeling"
      ],
      "metadata": {
        "id": "eHalEHTDwx4V"
      },
      "id": "eHalEHTDwx4V"
    },
    {
      "cell_type": "code",
      "source": [
        "# Создадим нулевой датафрейм, куда будут записаваться данные о качестве прогнозирования\n",
        "cols_results = ['RMSE', 'r2_score']\n",
        "index_results = ['baseline', 'linear_regression', 'catboost']\n",
        "df_results = pd.DataFrame(data=0 , columns=cols_results, index=index_results)"
      ],
      "metadata": {
        "id": "mwTC47_aykU4"
      },
      "id": "mwTC47_aykU4",
      "execution_count": 22,
      "outputs": []
    },
    {
      "cell_type": "markdown",
      "source": [
        "## Константая (baseline) модель"
      ],
      "metadata": {
        "id": "8PZk6mbpyFSw"
      },
      "id": "8PZk6mbpyFSw"
    },
    {
      "cell_type": "code",
      "source": [
        "# Обучим и оценим константную модель\n",
        "dummy_reg = DummyRegressor(strategy=\"mean\")\n",
        "dummy_reg.fit(X_train_transform, y_train)\n",
        "y_pred_dummy = dummy_reg.predict(X_test_transform)\n",
        "\n",
        "rmse_dummy = mse(y_test, y_pred_dummy, squared=False)\n",
        "r2_dummy = r2_score(y_test, y_pred_dummy)\n",
        "\n",
        "df_results.loc['baseline', 'RMSE'] = rmse_dummy\n",
        "df_results.loc['baseline', 'r2_score'] = r2_dummy\n",
        "\n",
        "print(f\"Оценка RMSE константной модели: {rmse_dummy}\")\n",
        "print(f\"Оценка коэффициента детерминации R2 константной модели: {r2_dummy}\")"
      ],
      "metadata": {
        "colab": {
          "base_uri": "https://localhost:8080/"
        },
        "id": "tlTSxNx7yD-D",
        "outputId": "9c5c56d4-c750-4c42-c59c-cd6759141f68"
      },
      "id": "tlTSxNx7yD-D",
      "execution_count": 61,
      "outputs": [
        {
          "output_type": "stream",
          "name": "stdout",
          "text": [
            "Оценка RMSE константной модели: 1594376.6868890843\n",
            "Оценка коэффициента детерминации R2 константной модели: -0.0009434150014091536\n"
          ]
        }
      ]
    },
    {
      "cell_type": "markdown",
      "source": [
        "## LinearRegression"
      ],
      "metadata": {
        "id": "5mbkcW_IzSru"
      },
      "id": "5mbkcW_IzSru"
    },
    {
      "cell_type": "code",
      "source": [
        "# Обучим и оценим модель линейной регрессии\n",
        "lin_reg = LinearRegression()\n",
        "lin_reg.fit(X_train_transform, y_train)\n",
        "y_pred_lin = lin_reg.predict(X_test_transform)\n",
        "\n",
        "rmse_lin = mse(y_test, y_pred_lin, squared=False)\n",
        "r2_lin = r2_score(y_test, y_pred_lin)\n",
        "\n",
        "df_results.loc['linear_regression', 'RMSE'] = rmse_lin\n",
        "df_results.loc['linear_regression', 'r2_score'] = r2_lin\n",
        "\n",
        "print(f\"Оценка RMSE модели линейной регрессии: {rmse_lin}\")\n",
        "print(f\"Оценка коэффициента детерминации R2 модели линейной регрессии: {r2_lin}\")"
      ],
      "metadata": {
        "colab": {
          "base_uri": "https://localhost:8080/"
        },
        "id": "0dWUZFY6xEBR",
        "outputId": "46b6643c-3d52-478d-884b-ded01c148c43"
      },
      "id": "0dWUZFY6xEBR",
      "execution_count": 62,
      "outputs": [
        {
          "output_type": "stream",
          "name": "stdout",
          "text": [
            "Оценка RMSE модели линейной регрессии: 696993.996686651\n",
            "Оценка коэффициента детерминации R2 модели линейной регрессии: 0.8087128789812558\n"
          ]
        }
      ]
    },
    {
      "cell_type": "code",
      "source": [
        "# Экспорт модели\n",
        "# joblib.dump(lin_reg, '/drive/My Drive/lin_reg.pkl')"
      ],
      "metadata": {
        "id": "VIK2iUXoFLjr"
      },
      "id": "VIK2iUXoFLjr",
      "execution_count": 63,
      "outputs": []
    },
    {
      "cell_type": "markdown",
      "source": [
        "## CatBoost"
      ],
      "metadata": {
        "id": "jlTDp1rZ23PZ"
      },
      "id": "jlTDp1rZ23PZ"
    },
    {
      "cell_type": "code",
      "source": [
        "# Указываем гиперпараметры алгоритма градиентного бустинга\n",
        "params = {\n",
        "    'iterations': 500,\n",
        "    'eval_metric': 'RMSE',\n",
        "    'random_state': 12345,\n",
        "    'verbose': False\n",
        "}"
      ],
      "metadata": {
        "id": "Wkk_oyOO24YX"
      },
      "id": "Wkk_oyOO24YX",
      "execution_count": 64,
      "outputs": []
    },
    {
      "cell_type": "code",
      "source": [
        "# Варьируемые гиперпараметры\n",
        "params_search = {'depth': [4, 6],\n",
        "                 'learning_rate': [0.01, 0.03]}"
      ],
      "metadata": {
        "id": "SclKMq20274n"
      },
      "id": "SclKMq20274n",
      "execution_count": 65,
      "outputs": []
    },
    {
      "cell_type": "code",
      "source": [
        "# Инициализируем модель градиентного бустинга\n",
        "catboost = CatBoostRegressor(**params)\n",
        "\n",
        "# Указываем параметры алгоритма подбора гиперпараметров\n",
        "grid = GridSearchCV(estimator=catboost,\n",
        "                    scoring='neg_mean_squared_error',\n",
        "                    cv=3,\n",
        "                    param_grid=params_search)"
      ],
      "metadata": {
        "id": "z7RUVv00dBfX"
      },
      "id": "z7RUVv00dBfX",
      "execution_count": 66,
      "outputs": []
    },
    {
      "cell_type": "code",
      "source": [
        "# 1. Обучение модели градиентного бустинга с использованием кросс-валидации\n",
        "grid.fit(X_train_transform, y_train)\n",
        "y_pred_catboost = grid.predict(X_test_transform)\n",
        "\n",
        "# 2. Определение лучших гиперпараметров модели\n",
        "best_params = grid.best_params_\n",
        "print(f\"Лучшие гиперпараметры для модели градиентного бустинга: {best_params}\")"
      ],
      "metadata": {
        "colab": {
          "base_uri": "https://localhost:8080/"
        },
        "id": "VsPYzit63k9j",
        "outputId": "11626127-fc64-40aa-d118-d8876cc0bb29"
      },
      "id": "VsPYzit63k9j",
      "execution_count": 67,
      "outputs": [
        {
          "output_type": "stream",
          "name": "stdout",
          "text": [
            "Лучшие гиперпараметры для модели градиентного бустинга: {'depth': 6, 'learning_rate': 0.03}\n"
          ]
        }
      ]
    },
    {
      "cell_type": "code",
      "source": [
        "# Запись результатов в таблицу\n",
        "rmse_score = round(abs(grid.best_score_)**0.5)\n",
        "r2_catboost = r2_score(y_test, y_pred_catboost)\n",
        "\n",
        "df_results.loc['catboost', 'RMSE'] = rmse_score\n",
        "df_results.loc['catboost', 'r2_score'] = r2_catboost\n",
        "\n",
        "print(f\"RMSE лучшей модели градиентного бустинга на кросс-валидации: {rmse_score}\")\n",
        "print(f\"Оценка коэффициента детерминации R2 модели градиентного бустинга: {r2_catboost}\")"
      ],
      "metadata": {
        "colab": {
          "base_uri": "https://localhost:8080/"
        },
        "id": "UgBjSy-a3mNl",
        "outputId": "ac6ba03a-c7a9-4310-a00a-bcde4e41c9ea"
      },
      "id": "UgBjSy-a3mNl",
      "execution_count": 68,
      "outputs": [
        {
          "output_type": "stream",
          "name": "stdout",
          "text": [
            "RMSE лучшей модели градиентного бустинга на кросс-валидации: 780433\n",
            "Оценка коэффициента детерминации R2 модели градиентного бустинга: 0.7736771975681742\n"
          ]
        }
      ]
    },
    {
      "cell_type": "code",
      "source": [
        "# Экспорт модели в JSON\n",
        "# grid.best_estimator_.save_model(\"/drive/My Drive/catboost_model.json\", format=\"json\")"
      ],
      "metadata": {
        "id": "6_Np0TL-_fdR"
      },
      "id": "6_Np0TL-_fdR",
      "execution_count": 69,
      "outputs": []
    },
    {
      "cell_type": "markdown",
      "source": [
        "# Анализ моделей"
      ],
      "metadata": {
        "id": "amTNoFEZ9AQk"
      },
      "id": "amTNoFEZ9AQk"
    },
    {
      "cell_type": "code",
      "source": [
        "# 5. Визуализация результатов\n",
        "\n",
        "fig, ax = plt.subplots(1, 2, figsize=(10, 4))\n",
        "\n",
        "ax[0].bar(df_results.index, df_results['RMSE'])\n",
        "ax[0].set_title('Сравнение RMSE моделей')\n",
        "ax[0].grid(axis='y')\n",
        "\n",
        "ax[1].bar(df_results.index[1:], df_results['r2_score'][1:])\n",
        "ax[1].set_title('Сравнение коэффициентов детерминации R2 моделей')\n",
        "ax[1].grid(axis='y')\n",
        "\n",
        "plt.tight_layout()\n",
        "plt.show()"
      ],
      "metadata": {
        "colab": {
          "base_uri": "https://localhost:8080/",
          "height": 407
        },
        "id": "_8vkMf-99f94",
        "outputId": "92fe77b0-89cc-4886-bb8a-153efb3949e1"
      },
      "id": "_8vkMf-99f94",
      "execution_count": 75,
      "outputs": [
        {
          "output_type": "display_data",
          "data": {
            "text/plain": [
              "<Figure size 1000x400 with 2 Axes>"
            ],
            "image/png": "[encoded data removed]"
          },
          "metadata": {}
        }
      ]
    },
    {
      "cell_type": "markdown",
      "source": [
        "Вывод. Лучшие результаты показала модель линейной регрессии."
      ],
      "metadata": {
        "id": "ntMpPI8hAQZY"
      },
      "id": "ntMpPI8hAQZY"
    },
    {
      "cell_type": "markdown",
      "source": [
        "# Оценка качества лучшей модели на тестовой выборке"
      ],
      "metadata": {
        "id": "FUX34xIJ71Me"
      },
      "id": "FUX34xIJ71Me"
    },
    {
      "cell_type": "code",
      "source": [
        "# Прогнозирование на тестовой выборке и вычисление RMSE\n",
        "# predictions = grid.best_estimator_.predict(X_test_transform)\n",
        "predictions = lin_reg.predict(X_test_transform)\n",
        "test_rmse = mse(y_test, predictions, squared=False).round(0)\n",
        "print(f\"RMSE лучшей модели на тестовой выборке: {test_rmse}\")"
      ],
      "metadata": {
        "colab": {
          "base_uri": "https://localhost:8080/"
        },
        "id": "UbcUOTOz8HlB",
        "outputId": "f339e5da-6304-47a7-b675-6d742e7f4404"
      },
      "id": "UbcUOTOz8HlB",
      "execution_count": 71,
      "outputs": [
        {
          "output_type": "stream",
          "name": "stdout",
          "text": [
            "RMSE лучшей модели на тестовой выборке: 696994.0\n"
          ]
        }
      ]
    },
    {
      "cell_type": "code",
      "source": [],
      "metadata": {
        "id": "h6QBKniEcmA-"
      },
      "id": "h6QBKniEcmA-",
      "execution_count": 71,
      "outputs": []
    }
  ],
  "metadata": {
    "kernelspec": {
      "display_name": "Python 3",
      "name": "python3"
    },
    "language_info": {
      "name": "python"
    },
    "colab": {
      "provenance": []
    }
  },
  "nbformat": 4,
  "nbformat_minor": 5
}